{
 "cells": [
  {
   "cell_type": "code",
   "execution_count": 0,
   "metadata": {
    "colab": {},
    "colab_type": "code",
    "id": "rmMcZ6M23fIt"
   },
   "outputs": [],
   "source": [
    "import matplotlib.pyplot as plt\n",
    "import numpy as np\n",
    "import os\n",
    "import pickle\n",
    "from sklearn.model_selection import train_test_split"
   ]
  },
  {
   "cell_type": "code",
   "execution_count": 0,
   "metadata": {
    "colab": {},
    "colab_type": "code",
    "id": "CY32YINu3jSK"
   },
   "outputs": [],
   "source": [
    "from tensorflow import keras\n",
    "from tensorflow.keras import models, layers\n",
    "import tensorflow.keras.backend as K\n",
    "from tensorflow.keras.models import load_model, save_model, clone_model\n",
    "from tensorflow.keras.preprocessing import image\n",
    "from tensorflow.keras.preprocessing.image import ImageDataGenerator\n",
    "from tensorflow.keras.callbacks import ModelCheckpoint, Callback"
   ]
  },
  {
   "cell_type": "code",
   "execution_count": 0,
   "metadata": {
    "colab": {},
    "colab_type": "code",
    "id": "vRqhqoTr3399"
   },
   "outputs": [],
   "source": [
    "from google.colab import files"
   ]
  },
  {
   "cell_type": "code",
   "execution_count": 0,
   "metadata": {
    "colab": {},
    "colab_type": "code",
    "id": "m0SvKp4x8HUu"
   },
   "outputs": [],
   "source": [
    "import random\n",
    "from PIL import ImageOps, ImageEnhance, ImageFilter, Image"
   ]
  },
  {
   "cell_type": "code",
   "execution_count": 0,
   "metadata": {
    "colab": {},
    "colab_type": "code",
    "id": "_lplUPCl8Lrv"
   },
   "outputs": [],
   "source": [
    "np.random.seed(123)\n",
    "random.seed(123)"
   ]
  },
  {
   "cell_type": "code",
   "execution_count": 0,
   "metadata": {
    "colab": {},
    "colab_type": "code",
    "id": "U0kFPcjM-hwv"
   },
   "outputs": [],
   "source": [
    "image_size = (32, 32)\n",
    "num_classes = 10"
   ]
  },
  {
   "cell_type": "code",
   "execution_count": 0,
   "metadata": {
    "colab": {},
    "colab_type": "code",
    "id": "9ndxtfbyEOg4"
   },
   "outputs": [],
   "source": [
    "epochs = 200\n",
    "batch_size = 128\n",
    "model_num = 1"
   ]
  },
  {
   "cell_type": "markdown",
   "metadata": {
    "colab_type": "text",
    "id": "0y4W0TM64Oez"
   },
   "source": [
    "# Load Data"
   ]
  },
  {
   "cell_type": "code",
   "execution_count": 0,
   "metadata": {
    "colab": {
     "base_uri": "https://localhost:8080/",
     "height": 357
    },
    "colab_type": "code",
    "id": "leGdJv0ZIfuF",
    "outputId": "bd3069cb-213f-42ea-a6d4-0b76180eb270"
   },
   "outputs": [
    {
     "name": "stdout",
     "output_type": "stream",
     "text": [
      "--2019-05-05 00:21:43--  https://www.cs.toronto.edu/~kriz/cifar-10-python.tar.gz\n",
      "Resolving www.cs.toronto.edu (www.cs.toronto.edu)... 128.100.3.30\n",
      "Connecting to www.cs.toronto.edu (www.cs.toronto.edu)|128.100.3.30|:443... connected.\n",
      "HTTP request sent, awaiting response... 200 OK\n",
      "Length: 170498071 (163M) [application/x-gzip]\n",
      "Saving to: ‘cifar-10-python.tar.gz’\n",
      "\n",
      "cifar-10-python.tar 100%[===================>] 162.60M  5.09MB/s    in 23s     \n",
      "\n",
      "2019-05-05 00:22:07 (6.94 MB/s) - ‘cifar-10-python.tar.gz’ saved [170498071/170498071]\n",
      "\n",
      "cifar-10-batches-py/\n",
      "cifar-10-batches-py/data_batch_4\n",
      "cifar-10-batches-py/readme.html\n",
      "cifar-10-batches-py/test_batch\n",
      "cifar-10-batches-py/data_batch_3\n",
      "cifar-10-batches-py/batches.meta\n",
      "cifar-10-batches-py/data_batch_2\n",
      "cifar-10-batches-py/data_batch_5\n",
      "cifar-10-batches-py/data_batch_1\n"
     ]
    }
   ],
   "source": [
    "!wget https://www.cs.toronto.edu/~kriz/cifar-10-python.tar.gz\n",
    "!tar -xvzf cifar-10-python.tar.gz\n",
    "!rm cifar-10-python.tar.gz"
   ]
  },
  {
   "cell_type": "code",
   "execution_count": 0,
   "metadata": {
    "colab": {},
    "colab_type": "code",
    "id": "59InDTAGIjfj"
   },
   "outputs": [],
   "source": [
    "data_dir = \"cifar-10-batches-py/\""
   ]
  },
  {
   "cell_type": "code",
   "execution_count": 0,
   "metadata": {
    "colab": {},
    "colab_type": "code",
    "id": "IIBxcjL95V2Q"
   },
   "outputs": [],
   "source": [
    "def unpickle(file):\n",
    "    with open(file, 'rb') as fo:\n",
    "        dict = pickle.load(fo)\n",
    "    return dict\n",
    "\n",
    "# Load Train Data\n",
    "train_data_dirs = [data_dir+\"data_batch_{}\".format(i) for i in range(1,6)]\n",
    "\n",
    "raw_data = [unpickle(path) for path in train_data_dirs]\n",
    "train_labels = np.array(sum([batch[b'labels'] for batch in raw_data], []))\n",
    "train_data = np.vstack([batch[b'data'] for batch in raw_data])\n",
    "train_data = np.moveaxis(train_data.reshape(-1,3,32,32),1,-1)\n",
    "\n",
    "# Load Test Data\n",
    "test_data_dir = data_dir+\"test_batch\"\n",
    "\n",
    "raw_data = unpickle(test_data_dir)\n",
    "test_labels = np.array(raw_data[b'labels'])\n",
    "test_data = raw_data[b'data'] \n",
    "test_data = np.moveaxis(test_data.reshape(-1,3,32,32),1,-1)\n",
    "\n",
    "# Load Label Names\n",
    "label_names = unpickle(data_dir+\"batches.meta\")[b'label_names']\n",
    "\n",
    "# Preprocess x and y \n",
    "X_train = [Image.fromarray((np.uint8(data))) for data in train_data]\n",
    "X_train = train_data/ 255.\n",
    "X_test = test_data/ 255.\n",
    "\n",
    "y_train = np.eye(10)[train_labels]\n",
    "y_test = np.eye(10)[test_labels]"
   ]
  },
  {
   "cell_type": "code",
   "execution_count": 0,
   "metadata": {
    "colab": {},
    "colab_type": "code",
    "id": "_MYBAR5p9bvo"
   },
   "outputs": [],
   "source": [
    "X_train, X_val, y_train, y_val = train_test_split(X_train, y_train, test_size=0.2)"
   ]
  },
  {
   "cell_type": "markdown",
   "metadata": {
    "colab_type": "text",
    "id": "MhfZHXab91ab"
   },
   "source": [
    "# Make Model"
   ]
  },
  {
   "cell_type": "code",
   "execution_count": 0,
   "metadata": {
    "colab": {},
    "colab_type": "code",
    "id": "wrYcRoV-93JD"
   },
   "outputs": [],
   "source": [
    "test_datagen = ImageDataGenerator()\n",
    "test_generator = test_datagen.flow(X_test, y_test)\n",
    "\n",
    "validation_generator = test_datagen.flow(X_val, y_val)"
   ]
  },
  {
   "cell_type": "code",
   "execution_count": null,
   "metadata": {},
   "outputs": [],
   "source": [
    "# 0.8426 accuracy\n",
    "train_datagen = ImageDataGenerator(\n",
    "    rotation_range=40,\n",
    "    width_shift_range=0.2,\n",
    "    height_shift_range=0.2,\n",
    "    shear_range=0.2,\n",
    "    zoom_range=0.2,\n",
    "    horizontal_flip=True)\n",
    "\n",
    "train_generator = train_datagen.flow(X_train, y_train, \n",
    "                                      batch_size=batch_size)\n",
    "\n",
    "\n",
    "model = models.Sequential()\n",
    "\n",
    "model.add(layers.Conv2D(256, (3, 3), \n",
    "                        input_shape=(image_size[0], image_size[1], 3),\n",
    "                        data_format='channels_last',\n",
    "                        activation='elu', kernel_initializer='he_normal'))\n",
    "model.add(layers.MaxPool2D(2, 2))\n",
    "model.add(layers.BatchNormalization())\n",
    "\n",
    "\n",
    "model.add(layers.Conv2D(256, (3, 3),\n",
    "                        activation='elu',\n",
    "                        kernel_initializer='he_normal'))\n",
    "model.add(layers.MaxPool2D(2, 2))\n",
    "model.add(layers.BatchNormalization())\n",
    "\n",
    "model.add(layers.Conv2D(128, (2, 2),\n",
    "                        activation='elu',\n",
    "                        kernel_initializer='he_normal'))\n",
    "model.add(layers.BatchNormalization())\n",
    "\n",
    "\n",
    "\n",
    "model.add(layers.Flatten())\n",
    "\n",
    "\n",
    "model.add(layers.Dense(128,\n",
    "                       activation='elu',\n",
    "                       kernel_initializer='he_normal'))\n",
    "model.add(layers.BatchNormalization())\n",
    "\n",
    "model.add(layers.Dense(64,\n",
    "                       activation='elu',\n",
    "                       kernel_initializer='he_normal'))\n",
    "model.add(layers.BatchNormalization())\n",
    "\n",
    "model.add(layers.Dense(num_classes, \n",
    "                       activation='softmax'))\n",
    "\n",
    "model.summary()"
   ]
  },
  {
   "cell_type": "code",
   "execution_count": 0,
   "metadata": {
    "colab": {},
    "colab_type": "code",
    "id": "dK2KYPlLC6Gw"
   },
   "outputs": [],
   "source": [
    "checkpoint = ModelCheckpoint('checkpoint_model_%i.h5' % (model_num), \n",
    "                              monitor='val_loss', \n",
    "                              verbose=False, save_best_only=True, \n",
    "                              save_weights_only=True)"
   ]
  },
  {
   "cell_type": "code",
   "execution_count": 0,
   "metadata": {
    "colab": {},
    "colab_type": "code",
    "id": "32wtAT-a_NwG"
   },
   "outputs": [],
   "source": [
    "model.compile(loss='categorical_crossentropy',\n",
    "              optimizer='adam', metrics=['accuracy'])"
   ]
  },
  {
   "cell_type": "markdown",
   "metadata": {
    "colab_type": "text",
    "id": "XfdHrmKU_O1Y"
   },
   "source": [
    "# Train"
   ]
  },
  {
   "cell_type": "code",
   "execution_count": null,
   "metadata": {},
   "outputs": [],
   "source": [
    "history = model.fit_generator(train_generator,\n",
    "                    steps_per_epoch = len(X_train) // batch_size,\n",
    "                    validation_data = validation_generator, \n",
    "                    validation_steps = len(X_val) // batch_size,\n",
    "                    epochs=epochs, callbacks=[checkpoint])"
   ]
  },
  {
   "cell_type": "code",
   "execution_count": 0,
   "metadata": {
    "colab": {},
    "colab_type": "code",
    "id": "HM08TfMvZXZH"
   },
   "outputs": [],
   "source": [
    "model.save('fit_model_%i.h5' % (model_num))"
   ]
  },
  {
   "cell_type": "code",
   "execution_count": 0,
   "metadata": {
    "colab": {},
    "colab_type": "code",
    "id": "Pys2S3cwQxvM"
   },
   "outputs": [],
   "source": [
    "model.load_weights('checkpoint_model_%i.h5' % (model_num))"
   ]
  },
  {
   "cell_type": "code",
   "execution_count": 0,
   "metadata": {
    "colab": {},
    "colab_type": "code",
    "id": "mMbp-b24N_Zk"
   },
   "outputs": [],
   "source": [
    "model.save('loaded_model_%i.h5' % (model_num))"
   ]
  },
  {
   "cell_type": "code",
   "execution_count": 0,
   "metadata": {
    "colab": {},
    "colab_type": "code",
    "id": "RzTneUyPaKeP"
   },
   "outputs": [],
   "source": [
    "metrics = model.evaluate(X_test, y_test)"
   ]
  },
  {
   "cell_type": "markdown",
   "metadata": {
    "colab_type": "text",
    "id": "UANNG01KaKMl"
   },
   "source": []
  },
  {
   "cell_type": "code",
   "execution_count": 0,
   "metadata": {
    "colab": {},
    "colab_type": "code",
    "id": "tWqDwddtZd7J"
   },
   "outputs": [],
   "source": [
    "plt.figure(figsize=(14, 9))\n",
    "\n",
    "plt.subplot(1, 2, 1)\n",
    "plt.plot(range(len(model.history.history['loss'])), model.history.history['loss'], \n",
    "         label='Train Loss')\n",
    "plt.plot(range(len(model.history.history['loss'])), model.history.history['val_loss'], \n",
    "         label='Validation Loss')\n",
    "plt.xlabel('Epoch')\n",
    "plt.ylabel('Cross entropy')\n",
    "plt.text(0.6 * epochs, 0.75 * max(model.history.history['loss']),\n",
    "         'Test loss = %.4f' %(metrics[0]))\n",
    "plt.legend(loc='best')\n",
    "\n",
    "\n",
    "plt.subplot(1, 2, 2)\n",
    "plt.plot(range(len(model.history.history['loss'])), model.history.history['acc'], \n",
    "         label='Train Accuracy')\n",
    "plt.plot(range(len(model.history.history['loss'])), model.history.history['val_acc'], \n",
    "         label='Validation Accuracy')\n",
    "plt.xlabel('Epoch')\n",
    "plt.ylabel('Accuracy')\n",
    "plt.text(0.6 * epochs, 0.8 * max(model.history.history['acc']),\n",
    "         'Test Accuracy = %.4f' %(metrics[1]))\n",
    "plt.legend(loc='best')\n",
    "\n",
    "\n",
    "plt.savefig('training_metrics_%i.pdf' %(model_num))\n",
    "plt.show()"
   ]
  },
  {
   "cell_type": "markdown",
   "metadata": {
    "colab_type": "text",
    "id": "g9XjqgPwdkE3"
   },
   "source": [
    "# Test"
   ]
  },
  {
   "cell_type": "code",
   "execution_count": 0,
   "metadata": {
    "colab": {},
    "colab_type": "code",
    "id": "-qSiZRiWd3fJ"
   },
   "outputs": [],
   "source": [
    "classes = ['Plane', 'Car', 'Bird', 'Cat', 'Deer',\n",
    "           'Dog', 'Frog', 'Horse', 'Ship', 'Truck']\n",
    "pred_sample = model.predict(X_test[:3])\n",
    "preds = []\n",
    "trues = []\n",
    "for i in range(len(pred_sample)):\n",
    "  p = list(pred_sample[i])\n",
    "  y = list(y_test[i])\n",
    "  this_pred = classes[p.index(max(p))]\n",
    "  this_true = classes[y.index(max(y))]\n",
    "  preds.append(this_pred)\n",
    "  trues.append(this_true)\n",
    "  print(this_pred, this_true)"
   ]
  },
  {
   "cell_type": "code",
   "execution_count": 0,
   "metadata": {
    "colab": {},
    "colab_type": "code",
    "id": "ArZ3oa_yd3hz"
   },
   "outputs": [],
   "source": [
    "plt.figure(figsize=(16, 8))\n",
    "\n",
    "plt.subplot(1, 3, 1)\n",
    "plt.title('Predicted %s, Actually %s' % (preds[0], trues[0]))\n",
    "plt.imshow(X_test[0])\n",
    "\n",
    "plt.subplot(1, 3, 2)\n",
    "plt.title('Predicted %s, Actually %s' % (preds[1], trues[1]))\n",
    "plt.imshow(X_test[1])\n",
    "\n",
    "plt.subplot(1, 3, 3)\n",
    "plt.title('Predicted %s, Actually %s' % (preds[2], trues[2]))\n",
    "plt.imshow(X_test[2])\n",
    "\n",
    "plt.savefig('prediction_sample_%i.pdf' % (model_num))\n",
    "plt.show()"
   ]
  },
  {
   "cell_type": "markdown",
   "metadata": {
    "colab_type": "text",
    "id": "fHC5r-Tdd4NY"
   },
   "source": [
    "# Feature Visualization"
   ]
  },
  {
   "cell_type": "code",
   "execution_count": 0,
   "metadata": {
    "colab": {},
    "colab_type": "code",
    "id": "zUdp78mSd6Nd"
   },
   "outputs": [],
   "source": [
    "# Get convolutional layer outputs\n",
    "conv_layer_outputs = []\n",
    "for layer in model.layers:\n",
    "  if 'conv' in layer.name:\n",
    "    conv_layer_outputs.append(layer.output)"
   ]
  },
  {
   "cell_type": "code",
   "execution_count": 0,
   "metadata": {
    "colab": {},
    "colab_type": "code",
    "id": "IVtip0K8eYa-"
   },
   "outputs": [],
   "source": [
    "output_model = models.Model(inputs=model.input, outputs=conv_layer_outputs)"
   ]
  },
  {
   "cell_type": "code",
   "execution_count": 0,
   "metadata": {
    "colab": {},
    "colab_type": "code",
    "id": "TcVqW9tQkvGQ"
   },
   "outputs": [],
   "source": [
    "activation_indices = np.random.randint(0, len(y_test), size=3)"
   ]
  },
  {
   "cell_type": "code",
   "execution_count": 0,
   "metadata": {
    "colab": {},
    "colab_type": "code",
    "id": "RxrEtpMufD_Y"
   },
   "outputs": [],
   "source": [
    "activation_images = X_test[activation_indices]\n",
    "activations = output_model.predict(activation_images)"
   ]
  },
  {
   "cell_type": "code",
   "execution_count": 0,
   "metadata": {
    "colab": {},
    "colab_type": "code",
    "id": "Si3N4GUVc9uB"
   },
   "outputs": [],
   "source": [
    "plt.figure(figsize=(16, 12))\n",
    "\n",
    "plt.subplot(4, 3, 1)\n",
    "plt.imshow(activation_images[0])\n",
    "\n",
    "plt.subplot(4, 3, 2)\n",
    "plt.imshow(activation_images[1])\n",
    "\n",
    "plt.subplot(4, 3, 3)\n",
    "plt.imshow(activation_images[2])\n",
    "\n",
    "\n",
    "plt.subplot(4, 3, 4)\n",
    "plt.imshow(activations[0][0, :, :, 0])\n",
    "\n",
    "plt.subplot(4, 3, 5)\n",
    "plt.imshow(activations[0][1, :, :, 0])\n",
    "\n",
    "plt.subplot(4, 3, 6)\n",
    "plt.imshow(activations[0][2, :, :, 0])\n",
    "\n",
    "plt.subplot(4, 3, 7)\n",
    "plt.imshow(activations[0][0, :, :, 21])\n",
    "\n",
    "plt.subplot(4, 3, 8)\n",
    "plt.imshow(activations[0][1, :, :, 21])\n",
    "\n",
    "plt.subplot(4, 3, 9)\n",
    "plt.imshow(activations[0][2, :, :, 21])\n",
    "\n",
    "plt.subplot(4, 3, 10)\n",
    "plt.imshow(activations[0][0, :, :, 137])\n",
    "\n",
    "plt.subplot(4, 3, 11)\n",
    "plt.imshow(activations[0][1, :, :, 137])\n",
    "\n",
    "plt.subplot(4, 3, 12)\n",
    "plt.imshow(activations[0][2, :, :, 137])\n",
    "\n",
    "\n",
    "plt.savefig('first_layer_activations_0_21_137_model%i.pdf' % (model_num))\n",
    "plt.show()"
   ]
  },
  {
   "cell_type": "code",
   "execution_count": 0,
   "metadata": {
    "colab": {},
    "colab_type": "code",
    "id": "0MvxdOwklbpN"
   },
   "outputs": [],
   "source": [
    "plt.figure(figsize=(16, 12))\n",
    "\n",
    "plt.subplot(4, 3, 1)\n",
    "plt.imshow(activation_images[0])\n",
    "\n",
    "plt.subplot(4, 3, 2)\n",
    "plt.imshow(activation_images[1])\n",
    "\n",
    "plt.subplot(4, 3, 3)\n",
    "plt.imshow(activation_images[2])\n",
    "\n",
    "\n",
    "plt.subplot(4, 3, 4)\n",
    "plt.imshow(activations[0][0, :, :, 1])\n",
    "\n",
    "plt.subplot(4, 3, 5)\n",
    "plt.imshow(activations[0][1, :, :, 1])\n",
    "\n",
    "plt.subplot(4, 3, 6)\n",
    "plt.imshow(activations[0][2, :, :, 1])\n",
    "\n",
    "plt.subplot(4, 3, 7)\n",
    "plt.imshow(activations[0][0, :, :, 2])\n",
    "\n",
    "plt.subplot(4, 3, 8)\n",
    "plt.imshow(activations[0][1, :, :, 2])\n",
    "\n",
    "plt.subplot(4, 3, 9)\n",
    "plt.imshow(activations[0][2, :, :, 2])\n",
    "\n",
    "plt.subplot(4, 3, 10)\n",
    "plt.imshow(activations[0][0, :, :, 3])\n",
    "\n",
    "plt.subplot(4, 3, 11)\n",
    "plt.imshow(activations[0][1, :, :, 3])\n",
    "\n",
    "plt.subplot(4, 3, 12)\n",
    "plt.imshow(activations[0][2, :, :, 3])\n",
    "\n",
    "\n",
    "plt.savefig('first_layer_activations_1to3_%i.pdf' %(model_num))\n",
    "plt.show()"
   ]
  },
  {
   "cell_type": "code",
   "execution_count": 0,
   "metadata": {
    "colab": {},
    "colab_type": "code",
    "id": "Pn2BFmHxo5hz"
   },
   "outputs": [],
   "source": [
    "plt.figure(figsize=(16, 12))\n",
    "\n",
    "plt.subplot(4, 3, 1)\n",
    "plt.imshow(activation_images[0])\n",
    "\n",
    "plt.subplot(4, 3, 2)\n",
    "plt.imshow(activation_images[1])\n",
    "\n",
    "plt.subplot(4, 3, 3)\n",
    "plt.imshow(activation_images[2])\n",
    "\n",
    "\n",
    "plt.subplot(4, 3, 4)\n",
    "plt.imshow(activations[0][0, :, :, 4])\n",
    "\n",
    "plt.subplot(4, 3, 5)\n",
    "plt.imshow(activations[0][1, :, :, 4])\n",
    "\n",
    "plt.subplot(4, 3, 6)\n",
    "plt.imshow(activations[0][2, :, :, 4])\n",
    "\n",
    "plt.subplot(4, 3, 7)\n",
    "plt.imshow(activations[0][0, :, :, 5])\n",
    "\n",
    "plt.subplot(4, 3, 8)\n",
    "plt.imshow(activations[0][1, :, :, 5])\n",
    "\n",
    "plt.subplot(4, 3, 9)\n",
    "plt.imshow(activations[0][2, :, :, 5])\n",
    "\n",
    "plt.subplot(4, 3, 10)\n",
    "plt.imshow(activations[0][0, :, :, 6])\n",
    "\n",
    "plt.subplot(4, 3, 11)\n",
    "plt.imshow(activations[0][1, :, :, 6])\n",
    "\n",
    "plt.subplot(4, 3, 12)\n",
    "plt.imshow(activations[0][2, :, :, 6])\n",
    "\n",
    "\n",
    "plt.savefig('first_layer_activations_4to6_%i.pdf' % (model_num))\n",
    "plt.show()"
   ]
  },
  {
   "cell_type": "code",
   "execution_count": 0,
   "metadata": {
    "colab": {},
    "colab_type": "code",
    "id": "wTQ3RsM3ofQq"
   },
   "outputs": [],
   "source": [
    "plt.figure(figsize=(16, 12))\n",
    "\n",
    "plt.subplot(4, 3, 1)\n",
    "plt.imshow(activation_images[0])\n",
    "\n",
    "plt.subplot(4, 3, 2)\n",
    "plt.imshow(activation_images[1])\n",
    "\n",
    "plt.subplot(4, 3, 3)\n",
    "plt.imshow(activation_images[2])\n",
    "\n",
    "\n",
    "plt.subplot(4, 3, 4)\n",
    "plt.imshow(activations[1][0, :, :, 1])\n",
    "\n",
    "plt.subplot(4, 3, 5)\n",
    "plt.imshow(activations[1][1, :, :, 1])\n",
    "\n",
    "plt.subplot(4, 3, 6)\n",
    "plt.imshow(activations[1][2, :, :, 1])\n",
    "\n",
    "plt.subplot(4, 3, 7)\n",
    "plt.imshow(activations[1][0, :, :, 2])\n",
    "\n",
    "plt.subplot(4, 3, 8)\n",
    "plt.imshow(activations[1][1, :, :, 2])\n",
    "\n",
    "plt.subplot(4, 3, 9)\n",
    "plt.imshow(activations[1][2, :, :, 2])\n",
    "\n",
    "plt.subplot(4, 3, 10)\n",
    "plt.imshow(activations[1][0, :, :, 3])\n",
    "\n",
    "plt.subplot(4, 3, 11)\n",
    "plt.imshow(activations[1][1, :, :, 3])\n",
    "\n",
    "plt.subplot(4, 3, 12)\n",
    "plt.imshow(activations[1][2, :, :, 3])\n",
    "\n",
    "\n",
    "plt.savefig('second_layer_activations_1to3_%i.pdf' % (model_num))\n",
    "plt.show()"
   ]
  },
  {
   "cell_type": "code",
   "execution_count": 0,
   "metadata": {
    "colab": {},
    "colab_type": "code",
    "id": "_LHG1RPHwI7j"
   },
   "outputs": [],
   "source": [
    "plt.figure(figsize=(16, 12))\n",
    "\n",
    "plt.subplot(4, 3, 1)\n",
    "plt.imshow(activation_images[0])\n",
    "\n",
    "plt.subplot(4, 3, 2)\n",
    "plt.imshow(activation_images[1])\n",
    "\n",
    "plt.subplot(4, 3, 3)\n",
    "plt.imshow(activation_images[2])\n",
    "\n",
    "\n",
    "plt.subplot(4, 3, 4)\n",
    "plt.imshow(activations[2][0, :, :, 1])\n",
    "\n",
    "plt.subplot(4, 3, 5)\n",
    "plt.imshow(activations[2][1, :, :, 1])\n",
    "\n",
    "plt.subplot(4, 3, 6)\n",
    "plt.imshow(activations[2][2, :, :, 1])\n",
    "\n",
    "plt.subplot(4, 3, 7)\n",
    "plt.imshow(activations[2][0, :, :, 2])\n",
    "\n",
    "plt.subplot(4, 3, 8)\n",
    "plt.imshow(activations[2][1, :, :, 2])\n",
    "\n",
    "plt.subplot(4, 3, 9)\n",
    "plt.imshow(activations[2][2, :, :, 2])\n",
    "\n",
    "plt.subplot(4, 3, 10)\n",
    "plt.imshow(activations[2][0, :, :, 3])\n",
    "\n",
    "plt.subplot(4, 3, 11)\n",
    "plt.imshow(activations[2][1, :, :, 3])\n",
    "\n",
    "plt.subplot(4, 3, 12)\n",
    "plt.imshow(activations[2][2, :, :, 3])\n",
    "\n",
    "\n",
    "plt.savefig('third_layer_activations_1to3_%i.pdf' % (model_num))\n",
    "plt.show()"
   ]
  },
  {
   "cell_type": "code",
   "execution_count": 0,
   "metadata": {
    "colab": {},
    "colab_type": "code",
    "id": "NtV3YD5ntaHg"
   },
   "outputs": [],
   "source": [
    "plt.figure(figsize=(16, 12))\n",
    "\n",
    "plt.subplot(4, 3, 1)\n",
    "plt.imshow(activation_images[0])\n",
    "\n",
    "plt.subplot(4, 3, 2)\n",
    "plt.imshow(activation_images[1])\n",
    "\n",
    "plt.subplot(4, 3, 3)\n",
    "plt.imshow(activation_images[2])\n",
    "\n",
    "\n",
    "plt.subplot(4, 3, 4)\n",
    "plt.imshow(activations[0][0, :, :, :3])\n",
    "\n",
    "plt.subplot(4, 3, 5)\n",
    "plt.imshow(activations[0][1, :, :, :3])\n",
    "\n",
    "plt.subplot(4, 3, 6)\n",
    "plt.imshow(activations[0][2, :, :, :3])\n",
    "\n",
    "plt.savefig('stacked_first_layer_0to2_%i.pdf' % (model_num))\n",
    "plt.show()"
   ]
  },
  {
   "cell_type": "code",
   "execution_count": 0,
   "metadata": {
    "colab": {},
    "colab_type": "code",
    "id": "j5oa4Al8vU8E"
   },
   "outputs": [],
   "source": []
  }
 ],
 "metadata": {
  "accelerator": "GPU",
  "colab": {
   "collapsed_sections": [],
   "name": "data2040_final_project_cnn.ipynb",
   "provenance": [],
   "toc_visible": true,
   "version": "0.3.2"
  },
  "kernelspec": {
   "display_name": "Python 2",
   "name": "python2"
  }
 },
 "nbformat": 4,
 "nbformat_minor": 1
}
